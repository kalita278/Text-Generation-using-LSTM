{
 "cells": [
  {
   "cell_type": "code",
   "execution_count": 15,
   "id": "5b8c0ec2-e67d-4e3f-8c00-68fe1df2acbe",
   "metadata": {},
   "outputs": [],
   "source": [
    "import numpy as np\n",
    "import pandas as pd\n",
    "import tensorflow as tf"
   ]
  },
  {
   "cell_type": "code",
   "execution_count": 16,
   "id": "f56f2739-519f-44cf-907a-1a09c0212655",
   "metadata": {},
   "outputs": [],
   "source": [
    "#Loading the data\n",
    "data = pd.read_csv('C:/Users/Mrinal Kalita/Python Projects/Text Generation/medium_data.csv')"
   ]
  },
  {
   "cell_type": "code",
   "execution_count": 17,
   "id": "672d3b01-5982-4ed4-ac6c-2ac3a42519ff",
   "metadata": {},
   "outputs": [
    {
     "data": {
      "text/html": [
       "<div>\n",
       "<style scoped>\n",
       "    .dataframe tbody tr th:only-of-type {\n",
       "        vertical-align: middle;\n",
       "    }\n",
       "\n",
       "    .dataframe tbody tr th {\n",
       "        vertical-align: top;\n",
       "    }\n",
       "\n",
       "    .dataframe thead th {\n",
       "        text-align: right;\n",
       "    }\n",
       "</style>\n",
       "<table border=\"1\" class=\"dataframe\">\n",
       "  <thead>\n",
       "    <tr style=\"text-align: right;\">\n",
       "      <th></th>\n",
       "      <th>id</th>\n",
       "      <th>url</th>\n",
       "      <th>title</th>\n",
       "      <th>subtitle</th>\n",
       "      <th>image</th>\n",
       "      <th>claps</th>\n",
       "      <th>responses</th>\n",
       "      <th>reading_time</th>\n",
       "      <th>publication</th>\n",
       "      <th>date</th>\n",
       "    </tr>\n",
       "  </thead>\n",
       "  <tbody>\n",
       "    <tr>\n",
       "      <th>0</th>\n",
       "      <td>1</td>\n",
       "      <td>https://towardsdatascience.com/a-beginners-gui...</td>\n",
       "      <td>A Beginner’s Guide to Word Embedding with Gens...</td>\n",
       "      <td>NaN</td>\n",
       "      <td>1.png</td>\n",
       "      <td>850</td>\n",
       "      <td>8</td>\n",
       "      <td>8</td>\n",
       "      <td>Towards Data Science</td>\n",
       "      <td>2019-05-30</td>\n",
       "    </tr>\n",
       "    <tr>\n",
       "      <th>1</th>\n",
       "      <td>2</td>\n",
       "      <td>https://towardsdatascience.com/hands-on-graph-...</td>\n",
       "      <td>Hands-on Graph Neural Networks with PyTorch &amp; ...</td>\n",
       "      <td>NaN</td>\n",
       "      <td>2.png</td>\n",
       "      <td>1100</td>\n",
       "      <td>11</td>\n",
       "      <td>9</td>\n",
       "      <td>Towards Data Science</td>\n",
       "      <td>2019-05-30</td>\n",
       "    </tr>\n",
       "    <tr>\n",
       "      <th>2</th>\n",
       "      <td>3</td>\n",
       "      <td>https://towardsdatascience.com/how-to-use-ggpl...</td>\n",
       "      <td>How to Use ggplot2 in Python</td>\n",
       "      <td>A Grammar of Graphics for Python</td>\n",
       "      <td>3.png</td>\n",
       "      <td>767</td>\n",
       "      <td>1</td>\n",
       "      <td>5</td>\n",
       "      <td>Towards Data Science</td>\n",
       "      <td>2019-05-30</td>\n",
       "    </tr>\n",
       "    <tr>\n",
       "      <th>3</th>\n",
       "      <td>4</td>\n",
       "      <td>https://towardsdatascience.com/databricks-how-...</td>\n",
       "      <td>Databricks: How to Save Files in CSV on Your L...</td>\n",
       "      <td>When I work on Python projects dealing…</td>\n",
       "      <td>4.jpeg</td>\n",
       "      <td>354</td>\n",
       "      <td>0</td>\n",
       "      <td>4</td>\n",
       "      <td>Towards Data Science</td>\n",
       "      <td>2019-05-30</td>\n",
       "    </tr>\n",
       "    <tr>\n",
       "      <th>4</th>\n",
       "      <td>5</td>\n",
       "      <td>https://towardsdatascience.com/a-step-by-step-...</td>\n",
       "      <td>A Step-by-Step Implementation of Gradient Desc...</td>\n",
       "      <td>One example of building neural…</td>\n",
       "      <td>5.jpeg</td>\n",
       "      <td>211</td>\n",
       "      <td>3</td>\n",
       "      <td>4</td>\n",
       "      <td>Towards Data Science</td>\n",
       "      <td>2019-05-30</td>\n",
       "    </tr>\n",
       "  </tbody>\n",
       "</table>\n",
       "</div>"
      ],
      "text/plain": [
       "   id                                                url  \\\n",
       "0   1  https://towardsdatascience.com/a-beginners-gui...   \n",
       "1   2  https://towardsdatascience.com/hands-on-graph-...   \n",
       "2   3  https://towardsdatascience.com/how-to-use-ggpl...   \n",
       "3   4  https://towardsdatascience.com/databricks-how-...   \n",
       "4   5  https://towardsdatascience.com/a-step-by-step-...   \n",
       "\n",
       "                                               title  \\\n",
       "0  A Beginner’s Guide to Word Embedding with Gens...   \n",
       "1  Hands-on Graph Neural Networks with PyTorch & ...   \n",
       "2                       How to Use ggplot2 in Python   \n",
       "3  Databricks: How to Save Files in CSV on Your L...   \n",
       "4  A Step-by-Step Implementation of Gradient Desc...   \n",
       "\n",
       "                                  subtitle   image  claps responses  \\\n",
       "0                                      NaN   1.png    850         8   \n",
       "1                                      NaN   2.png   1100        11   \n",
       "2         A Grammar of Graphics for Python   3.png    767         1   \n",
       "3  When I work on Python projects dealing…  4.jpeg    354         0   \n",
       "4          One example of building neural…  5.jpeg    211         3   \n",
       "\n",
       "   reading_time           publication        date  \n",
       "0             8  Towards Data Science  2019-05-30  \n",
       "1             9  Towards Data Science  2019-05-30  \n",
       "2             5  Towards Data Science  2019-05-30  \n",
       "3             4  Towards Data Science  2019-05-30  \n",
       "4             4  Towards Data Science  2019-05-30  "
      ]
     },
     "execution_count": 17,
     "metadata": {},
     "output_type": "execute_result"
    }
   ],
   "source": [
    "#checking the first 5 rows\n",
    "data.head()"
   ]
  },
  {
   "cell_type": "code",
   "execution_count": 18,
   "id": "f5ef1aa0-5be6-4eb0-83c8-620c502a8c24",
   "metadata": {},
   "outputs": [
    {
     "data": {
      "text/plain": [
       "(6508, 10)"
      ]
     },
     "execution_count": 18,
     "metadata": {},
     "output_type": "execute_result"
    }
   ],
   "source": [
    "#Checking the shape\n",
    "data.shape"
   ]
  },
  {
   "cell_type": "code",
   "execution_count": 19,
   "id": "28bb1409-20a0-4b17-8c0c-ad875c6caddf",
   "metadata": {},
   "outputs": [
    {
     "data": {
      "text/plain": [
       "'Hands-on Graph Neural Networks with PyTorch & PyTorch Geometric'"
      ]
     },
     "execution_count": 19,
     "metadata": {},
     "output_type": "execute_result"
    }
   ],
   "source": [
    "#checking some of the titles\n",
    "data['title'][1]"
   ]
  },
  {
   "cell_type": "code",
   "execution_count": 20,
   "id": "e156f4fb-bf2c-43df-a932-0381e9efd5d3",
   "metadata": {},
   "outputs": [
    {
     "data": {
      "text/plain": [
       "'Making a DotA2 Bot Using\\xa0ML'"
      ]
     },
     "execution_count": 20,
     "metadata": {},
     "output_type": "execute_result"
    }
   ],
   "source": [
    "data['title'][11]"
   ]
  },
  {
   "cell_type": "code",
   "execution_count": 21,
   "id": "96a5c5d7-af94-4caf-991e-2e0556d954e2",
   "metadata": {},
   "outputs": [],
   "source": [
    "#Removing unwanted characters from title\n",
    "data['title'] = data['title'].apply(lambda x: x.replace(u'\\xa0',u' '))\n",
    "data['title'] = data['title'].apply(lambda x: x.replace(u'\\u200a',' '))"
   ]
  },
  {
   "cell_type": "markdown",
   "id": "4920e9ec-bba9-4de9-b486-28377f6e59fa",
   "metadata": {},
   "source": [
    "## Tokenization"
   ]
  },
  {
   "cell_type": "code",
   "execution_count": 22,
   "id": "3b5b5692-59dd-40fd-b6e5-c35a64cbb462",
   "metadata": {},
   "outputs": [],
   "source": [
    "from tensorflow.keras.preprocessing.text import Tokenizer"
   ]
  },
  {
   "cell_type": "code",
   "execution_count": 23,
   "id": "e9e5bf73-3fb2-4663-9ab5-50ef4204ba85",
   "metadata": {},
   "outputs": [],
   "source": [
    "tokenizer = Tokenizer(oov_token='<oov>')\n",
    "tokenizer.fit_on_texts(data['title'])\n",
    "total_words = len(tokenizer.word_index) + 1"
   ]
  },
  {
   "cell_type": "code",
   "execution_count": 24,
   "id": "ad6dfea9-b0a2-40f8-b77b-f37f598e6f74",
   "metadata": {},
   "outputs": [
    {
     "name": "stdout",
     "output_type": "stream",
     "text": [
      "total number of words: 8238\n",
      "oov word index: 1\n"
     ]
    }
   ],
   "source": [
    "print('total number of words:', total_words)\n",
    "print('oov word index:', tokenizer.word_index['<oov>'])"
   ]
  },
  {
   "cell_type": "code",
   "execution_count": 25,
   "id": "24a5547e-ba12-4d79-a92b-cd9544436064",
   "metadata": {},
   "outputs": [
    {
     "data": {
      "text/plain": [
       "[5, 676, 68, 2, 452, 1518, 14, 2455, 3653, 99]"
      ]
     },
     "execution_count": 25,
     "metadata": {},
     "output_type": "execute_result"
    }
   ],
   "source": [
    "tokenizer.texts_to_sequences([data['title'][0]])[0]"
   ]
  },
  {
   "cell_type": "code",
   "execution_count": 26,
   "id": "35b3edb4-b3f9-4db3-9e04-1e9ace3715b0",
   "metadata": {},
   "outputs": [],
   "source": [
    "input_sequence = []\n",
    "\n",
    "for line in data['title']:\n",
    "    input_token = tokenizer.texts_to_sequences([line])[0]\n",
    "\n",
    "    for i in range(1,len(input_token)):\n",
    "        n_gram = input_token[:i+1]\n",
    "        input_sequence.append(n_gram)"
   ]
  },
  {
   "cell_type": "markdown",
   "id": "1c861d34-9477-4270-9e1a-92305b075475",
   "metadata": {},
   "source": [
    "## Making same length through padding"
   ]
  },
  {
   "cell_type": "code",
   "execution_count": 27,
   "id": "ba2cfa80-5bc2-4ad4-a57c-133814350f50",
   "metadata": {},
   "outputs": [],
   "source": [
    "#Finding the maximum length\n",
    "max_len = max([len(i) for i in input_sequence])"
   ]
  },
  {
   "cell_type": "code",
   "execution_count": 28,
   "id": "d434cedb-6a5a-465f-ae6d-1f4ea1e4abf2",
   "metadata": {},
   "outputs": [],
   "source": [
    "from tensorflow.keras.preprocessing.sequence import pad_sequences\n",
    "input_sequence = pad_sequences(input_sequence,maxlen=max_len,padding='pre')"
   ]
  },
  {
   "cell_type": "code",
   "execution_count": 29,
   "id": "57d3efc6-6a84-4d2b-af2d-7965b44e6d7b",
   "metadata": {},
   "outputs": [
    {
     "data": {
      "text/plain": [
       "array([  0,   0,   0,   0,   0,   0,   0,   0,   0,   0,   0,   0,   0,\n",
       "         0,   0,   0,   0,   0,   0,   0,   0,   0,   0,   0,   0,   0,\n",
       "         0,   0,   0,   0,   0,   0,   0,   0,   0,   0,   0,   0,   5,\n",
       "       676])"
      ]
     },
     "execution_count": 29,
     "metadata": {},
     "output_type": "execute_result"
    }
   ],
   "source": [
    "input_sequence[0]"
   ]
  },
  {
   "cell_type": "markdown",
   "id": "e3582bfc-9a2e-4561-a6ef-bcce0f622f46",
   "metadata": {},
   "source": [
    "## Creatig Feature and Labels"
   ]
  },
  {
   "cell_type": "code",
   "execution_count": 30,
   "id": "de6c2047-2eed-4250-aa6f-062e3a33c686",
   "metadata": {},
   "outputs": [],
   "source": [
    "#Creating feature and labels\n",
    "predictors, target = input_sequence[:,:-1], input_sequence[:,-1]"
   ]
  },
  {
   "cell_type": "code",
   "execution_count": 31,
   "id": "57ba8911-9b8e-4bc2-853f-c147c11dda6d",
   "metadata": {},
   "outputs": [
    {
     "data": {
      "text/plain": [
       "array([676,  68,   2, ...,  56, 730, 550])"
      ]
     },
     "execution_count": 31,
     "metadata": {},
     "output_type": "execute_result"
    }
   ],
   "source": [
    "target"
   ]
  },
  {
   "cell_type": "code",
   "execution_count": 32,
   "id": "6eca8092-07a7-4851-9860-4c9be51917e4",
   "metadata": {},
   "outputs": [],
   "source": [
    "labels = tf.keras.utils.to_categorical(target,num_classes= total_words)"
   ]
  },
  {
   "cell_type": "markdown",
   "id": "0b5b2b64-0293-468d-9def-81e2d655ebee",
   "metadata": {},
   "source": [
    "## LSTM model building"
   ]
  },
  {
   "cell_type": "code",
   "execution_count": 20,
   "id": "de9b1df3-1758-4d3e-816c-d8974a86d6fb",
   "metadata": {},
   "outputs": [],
   "source": [
    "model = tf.keras.models.Sequential()\n",
    "model.add(tf.keras.layers.Embedding(total_words,100,input_length = max_len-1))\n",
    "model.add(tf.keras.layers.LSTM(256,return_sequences = True))\n",
    "model.add(tf.keras.layers.LSTM(128))\n",
    "model.add(tf.keras.layers.Dense(total_words, activation = 'softmax'))"
   ]
  },
  {
   "cell_type": "code",
   "execution_count": 21,
   "id": "3f9b846d-6ff6-413c-b896-09bcf3e89ac3",
   "metadata": {},
   "outputs": [
    {
     "name": "stdout",
     "output_type": "stream",
     "text": [
      "Model: \"sequential\"\n",
      "_________________________________________________________________\n",
      "Layer (type)                 Output Shape              Param #   \n",
      "=================================================================\n",
      "embedding (Embedding)        (None, 39, 100)           823800    \n",
      "_________________________________________________________________\n",
      "lstm (LSTM)                  (None, 39, 256)           365568    \n",
      "_________________________________________________________________\n",
      "lstm_1 (LSTM)                (None, 128)               197120    \n",
      "_________________________________________________________________\n",
      "dense (Dense)                (None, 8238)              1062702   \n",
      "=================================================================\n",
      "Total params: 2,449,190\n",
      "Trainable params: 2,449,190\n",
      "Non-trainable params: 0\n",
      "_________________________________________________________________\n"
     ]
    }
   ],
   "source": [
    "#Compiling the model\n",
    "model.compile(optimizer=tf.keras.optimizers.Adam(decay=1e-6),loss ='categorical_crossentropy',metrics=['accuracy'])\n",
    "model.summary()"
   ]
  },
  {
   "cell_type": "code",
   "execution_count": 24,
   "id": "9a369351-4522-4306-96bb-a25c5b87e3b2",
   "metadata": {},
   "outputs": [],
   "source": [
    "#Defining the callbacks\n",
    "from tensorflow.keras.callbacks import EarlyStopping, ReduceLROnPlateau\n",
    "stop = EarlyStopping(patience=15,monitor='loss')\n",
    "reduce_lr = ReduceLROnPlateau(factor=0.125,patience=6,monitor = 'loss')"
   ]
  },
  {
   "cell_type": "code",
   "execution_count": 25,
   "id": "157fdd37-d307-4cfb-9000-5566125394ce",
   "metadata": {},
   "outputs": [
    {
     "name": "stdout",
     "output_type": "stream",
     "text": [
      "Epoch 1/100\n",
      "1515/1515 [==============================] - 100s 66ms/step - loss: 7.1300 - accuracy: 0.0567\n",
      "Epoch 2/100\n",
      "1515/1515 [==============================] - 62s 41ms/step - loss: 6.5585 - accuracy: 0.1091\n",
      "Epoch 3/100\n",
      "1515/1515 [==============================] - 65s 43ms/step - loss: 6.2632 - accuracy: 0.1288\n",
      "Epoch 4/100\n",
      "1515/1515 [==============================] - 73s 48ms/step - loss: 5.9702 - accuracy: 0.1436\n",
      "Epoch 5/100\n",
      "1515/1515 [==============================] - 106s 70ms/step - loss: 5.6958 - accuracy: 0.1569\n",
      "Epoch 6/100\n",
      "1515/1515 [==============================] - 161s 106ms/step - loss: 5.4483 - accuracy: 0.1685\n",
      "Epoch 7/100\n",
      "1515/1515 [==============================] - 79s 52ms/step - loss: 5.2217 - accuracy: 0.1774\n",
      "Epoch 8/100\n",
      "1515/1515 [==============================] - 140s 93ms/step - loss: 5.0064 - accuracy: 0.1872\n",
      "Epoch 9/100\n",
      "1515/1515 [==============================] - 189s 125ms/step - loss: 4.7886 - accuracy: 0.1977\n",
      "Epoch 10/100\n",
      "1515/1515 [==============================] - 173s 114ms/step - loss: 4.5742 - accuracy: 0.2069\n",
      "Epoch 11/100\n",
      "1515/1515 [==============================] - 217s 143ms/step - loss: 4.3618 - accuracy: 0.2197\n",
      "Epoch 12/100\n",
      "1515/1515 [==============================] - 175s 116ms/step - loss: 4.1515 - accuracy: 0.2330\n",
      "Epoch 13/100\n",
      "1515/1515 [==============================] - 88s 58ms/step - loss: 3.9536 - accuracy: 0.2511\n",
      "Epoch 14/100\n",
      "1515/1515 [==============================] - 84s 55ms/step - loss: 3.7609 - accuracy: 0.2724\n",
      "Epoch 15/100\n",
      "1515/1515 [==============================] - 70s 46ms/step - loss: 3.5774 - accuracy: 0.2981\n",
      "Epoch 16/100\n",
      "1515/1515 [==============================] - 72s 48ms/step - loss: 3.4054 - accuracy: 0.3261\n",
      "Epoch 17/100\n",
      "1515/1515 [==============================] - 70s 46ms/step - loss: 3.2487 - accuracy: 0.3505\n",
      "Epoch 18/100\n",
      "1515/1515 [==============================] - 70s 46ms/step - loss: 3.1059 - accuracy: 0.3744\n",
      "Epoch 19/100\n",
      "1515/1515 [==============================] - 76s 50ms/step - loss: 2.9717 - accuracy: 0.3977\n",
      "Epoch 20/100\n",
      "1515/1515 [==============================] - 69s 46ms/step - loss: 2.8459 - accuracy: 0.4172\n",
      "Epoch 21/100\n",
      "1515/1515 [==============================] - 84s 56ms/step - loss: 2.7275 - accuracy: 0.4375\n",
      "Epoch 22/100\n",
      "1515/1515 [==============================] - 78s 51ms/step - loss: 2.6166 - accuracy: 0.4575\n",
      "Epoch 23/100\n",
      "1515/1515 [==============================] - 80s 53ms/step - loss: 2.5087 - accuracy: 0.4741\n",
      "Epoch 24/100\n",
      "1515/1515 [==============================] - 75s 49ms/step - loss: 2.4065 - accuracy: 0.4959\n",
      "Epoch 25/100\n",
      "1515/1515 [==============================] - 77s 51ms/step - loss: 2.3115 - accuracy: 0.5143\n",
      "Epoch 26/100\n",
      "1515/1515 [==============================] - 76s 50ms/step - loss: 2.2177 - accuracy: 0.5314\n",
      "Epoch 27/100\n",
      "1515/1515 [==============================] - 72s 47ms/step - loss: 2.1309 - accuracy: 0.5490\n",
      "Epoch 28/100\n",
      "1515/1515 [==============================] - 78s 51ms/step - loss: 2.0457 - accuracy: 0.5646\n",
      "Epoch 29/100\n",
      "1515/1515 [==============================] - 77s 51ms/step - loss: 1.9652 - accuracy: 0.5837\n",
      "Epoch 30/100\n",
      "1515/1515 [==============================] - 73s 48ms/step - loss: 1.8896 - accuracy: 0.5984\n",
      "Epoch 31/100\n",
      "1515/1515 [==============================] - 72s 47ms/step - loss: 1.8165 - accuracy: 0.6122\n",
      "Epoch 32/100\n",
      "1515/1515 [==============================] - 67s 44ms/step - loss: 1.7446 - accuracy: 0.6287\n",
      "Epoch 33/100\n",
      "1515/1515 [==============================] - 77s 51ms/step - loss: 1.6770 - accuracy: 0.6407\n",
      "Epoch 34/100\n",
      "1515/1515 [==============================] - 71s 47ms/step - loss: 1.6120 - accuracy: 0.6553\n",
      "Epoch 35/100\n",
      "1515/1515 [==============================] - 74s 49ms/step - loss: 1.5516 - accuracy: 0.6685\n",
      "Epoch 36/100\n",
      "1515/1515 [==============================] - 73s 48ms/step - loss: 1.4920 - accuracy: 0.6795\n",
      "Epoch 37/100\n",
      "1515/1515 [==============================] - 80s 53ms/step - loss: 1.4377 - accuracy: 0.6911\n",
      "Epoch 38/100\n",
      "1515/1515 [==============================] - 75s 50ms/step - loss: 1.3828 - accuracy: 0.7031\n",
      "Epoch 39/100\n",
      "1515/1515 [==============================] - 80s 53ms/step - loss: 1.3324 - accuracy: 0.7150\n",
      "Epoch 40/100\n",
      "1515/1515 [==============================] - 77s 51ms/step - loss: 1.2815 - accuracy: 0.7267\n",
      "Epoch 41/100\n",
      "1515/1515 [==============================] - 83s 55ms/step - loss: 1.2374 - accuracy: 0.7350\n",
      "Epoch 42/100\n",
      "1515/1515 [==============================] - 77s 51ms/step - loss: 1.1921 - accuracy: 0.7445\n",
      "Epoch 43/100\n",
      "1515/1515 [==============================] - 72s 48ms/step - loss: 1.1498 - accuracy: 0.7552\n",
      "Epoch 44/100\n",
      "1515/1515 [==============================] - 72s 47ms/step - loss: 1.1107 - accuracy: 0.7629\n",
      "Epoch 45/100\n",
      "1515/1515 [==============================] - 67s 44ms/step - loss: 1.0741 - accuracy: 0.7707\n",
      "Epoch 46/100\n",
      "1515/1515 [==============================] - 80s 53ms/step - loss: 1.0384 - accuracy: 0.7780\n",
      "Epoch 47/100\n",
      "1515/1515 [==============================] - 75s 49ms/step - loss: 1.0044 - accuracy: 0.7849\n",
      "Epoch 48/100\n",
      "1515/1515 [==============================] - 68s 45ms/step - loss: 0.9721 - accuracy: 0.7911\n",
      "Epoch 49/100\n",
      "1515/1515 [==============================] - 80s 53ms/step - loss: 0.9433 - accuracy: 0.7983\n",
      "Epoch 50/100\n",
      "1515/1515 [==============================] - 77s 51ms/step - loss: 0.9143 - accuracy: 0.8028\n",
      "Epoch 51/100\n",
      "1515/1515 [==============================] - 72s 48ms/step - loss: 0.8881 - accuracy: 0.8095\n",
      "Epoch 52/100\n",
      "1515/1515 [==============================] - 67s 44ms/step - loss: 0.8637 - accuracy: 0.8141\n",
      "Epoch 53/100\n",
      "1515/1515 [==============================] - 69s 45ms/step - loss: 0.8411 - accuracy: 0.8178\n",
      "Epoch 54/100\n",
      "1515/1515 [==============================] - 68s 45ms/step - loss: 0.8171 - accuracy: 0.8228\n",
      "Epoch 55/100\n",
      "1515/1515 [==============================] - 65s 43ms/step - loss: 0.7994 - accuracy: 0.8260\n",
      "Epoch 56/100\n",
      "1515/1515 [==============================] - 67s 44ms/step - loss: 0.7784 - accuracy: 0.8286\n",
      "Epoch 57/100\n",
      "1515/1515 [==============================] - 78s 51ms/step - loss: 0.7606 - accuracy: 0.8319\n",
      "Epoch 58/100\n",
      "1515/1515 [==============================] - 76s 50ms/step - loss: 0.7445 - accuracy: 0.8349\n",
      "Epoch 59/100\n",
      "1515/1515 [==============================] - 75s 49ms/step - loss: 0.7261 - accuracy: 0.8378\n",
      "Epoch 60/100\n",
      "1515/1515 [==============================] - 78s 52ms/step - loss: 0.7133 - accuracy: 0.8398\n",
      "Epoch 61/100\n",
      "1515/1515 [==============================] - 89s 59ms/step - loss: 0.7006 - accuracy: 0.8417\n",
      "Epoch 62/100\n",
      "1515/1515 [==============================] - 103s 68ms/step - loss: 0.6874 - accuracy: 0.8433\n",
      "Epoch 63/100\n",
      "1515/1515 [==============================] - 103s 68ms/step - loss: 0.6747 - accuracy: 0.8443\n",
      "Epoch 64/100\n",
      "1515/1515 [==============================] - 79s 52ms/step - loss: 0.6643 - accuracy: 0.8467\n",
      "Epoch 65/100\n",
      "1515/1515 [==============================] - 78s 51ms/step - loss: 0.6548 - accuracy: 0.8478\n",
      "Epoch 66/100\n",
      "1515/1515 [==============================] - 77s 51ms/step - loss: 0.6443 - accuracy: 0.8493\n",
      "Epoch 67/100\n",
      "1515/1515 [==============================] - 72s 47ms/step - loss: 0.6345 - accuracy: 0.8507\n",
      "Epoch 68/100\n",
      "1515/1515 [==============================] - 72s 47ms/step - loss: 0.6290 - accuracy: 0.8506\n",
      "Epoch 69/100\n",
      "1515/1515 [==============================] - 72s 47ms/step - loss: 0.6194 - accuracy: 0.8523\n",
      "Epoch 70/100\n",
      "1515/1515 [==============================] - 72s 48ms/step - loss: 0.6138 - accuracy: 0.8525\n",
      "Epoch 71/100\n",
      "1515/1515 [==============================] - 72s 47ms/step - loss: 0.6049 - accuracy: 0.8532\n",
      "Epoch 72/100\n",
      "1515/1515 [==============================] - 70s 46ms/step - loss: 0.5989 - accuracy: 0.8539\n",
      "Epoch 73/100\n",
      "1515/1515 [==============================] - 71s 47ms/step - loss: 0.5962 - accuracy: 0.8546\n",
      "Epoch 74/100\n",
      "1515/1515 [==============================] - 73s 48ms/step - loss: 0.5868 - accuracy: 0.8562\n",
      "Epoch 75/100\n",
      "1515/1515 [==============================] - 74s 49ms/step - loss: 0.5836 - accuracy: 0.8550\n",
      "Epoch 76/100\n",
      "1515/1515 [==============================] - 71s 47ms/step - loss: 0.5795 - accuracy: 0.8561\n",
      "Epoch 77/100\n",
      "1515/1515 [==============================] - 70s 46ms/step - loss: 0.5764 - accuracy: 0.8556\n",
      "Epoch 78/100\n",
      "1515/1515 [==============================] - 71s 47ms/step - loss: 0.5718 - accuracy: 0.8564\n",
      "Epoch 79/100\n",
      "1515/1515 [==============================] - 70s 46ms/step - loss: 0.5661 - accuracy: 0.8575\n",
      "Epoch 80/100\n",
      "1515/1515 [==============================] - 69s 46ms/step - loss: 0.5623 - accuracy: 0.8573\n",
      "Epoch 81/100\n",
      "1515/1515 [==============================] - 75s 50ms/step - loss: 0.5622 - accuracy: 0.8568\n",
      "Epoch 82/100\n",
      "1515/1515 [==============================] - 72s 48ms/step - loss: 0.5556 - accuracy: 0.8575\n",
      "Epoch 83/100\n",
      "1515/1515 [==============================] - 70s 46ms/step - loss: 0.5536 - accuracy: 0.8578\n",
      "Epoch 84/100\n",
      "1515/1515 [==============================] - 68s 45ms/step - loss: 0.5544 - accuracy: 0.8568\n",
      "Epoch 85/100\n",
      "1515/1515 [==============================] - 76s 50ms/step - loss: 0.5470 - accuracy: 0.8582\n",
      "Epoch 86/100\n",
      "1515/1515 [==============================] - 69s 46ms/step - loss: 0.5456 - accuracy: 0.8578\n",
      "Epoch 87/100\n",
      "1515/1515 [==============================] - 69s 46ms/step - loss: 0.5445 - accuracy: 0.8578\n",
      "Epoch 88/100\n",
      "1515/1515 [==============================] - 80s 53ms/step - loss: 0.5418 - accuracy: 0.8573\n",
      "Epoch 89/100\n",
      "1515/1515 [==============================] - 74s 49ms/step - loss: 0.5397 - accuracy: 0.8580\n",
      "Epoch 90/100\n",
      "1515/1515 [==============================] - 66s 43ms/step - loss: 0.5411 - accuracy: 0.8569\n",
      "Epoch 91/100\n",
      "1515/1515 [==============================] - 63s 42ms/step - loss: 0.5338 - accuracy: 0.8574\n",
      "Epoch 92/100\n",
      "1515/1515 [==============================] - 62s 41ms/step - loss: 0.5333 - accuracy: 0.8588\n",
      "Epoch 93/100\n",
      "1515/1515 [==============================] - 62s 41ms/step - loss: 0.5332 - accuracy: 0.8577\n",
      "Epoch 94/100\n",
      "1515/1515 [==============================] - 62s 41ms/step - loss: 0.5299 - accuracy: 0.8590\n",
      "Epoch 95/100\n",
      "1515/1515 [==============================] - 61s 41ms/step - loss: 0.5303 - accuracy: 0.8580\n",
      "Epoch 96/100\n",
      "1515/1515 [==============================] - 61s 40ms/step - loss: 0.5280 - accuracy: 0.8578\n",
      "Epoch 97/100\n",
      "1515/1515 [==============================] - 61s 40ms/step - loss: 0.5250 - accuracy: 0.8583\n",
      "Epoch 98/100\n",
      "1515/1515 [==============================] - 65s 43ms/step - loss: 0.5237 - accuracy: 0.8584\n",
      "Epoch 99/100\n",
      "1515/1515 [==============================] - 76s 50ms/step - loss: 0.5252 - accuracy: 0.8579\n",
      "Epoch 100/100\n",
      "1515/1515 [==============================] - 75s 50ms/step - loss: 0.5239 - accuracy: 0.8579\n"
     ]
    }
   ],
   "source": [
    "#Training the model\n",
    "history = model.fit(predictors,labels,epochs=100,callbacks=[stop,reduce_lr],verbose=1)"
   ]
  },
  {
   "cell_type": "code",
   "execution_count": 26,
   "id": "da9dc043-089c-428b-885a-490944f47077",
   "metadata": {},
   "outputs": [],
   "source": [
    "model.save('model.h5')"
   ]
  },
  {
   "cell_type": "code",
   "execution_count": 27,
   "id": "a6bcbb04-312b-4faf-aaab-6a1925a19965",
   "metadata": {},
   "outputs": [],
   "source": [
    "#Saving the history in csv file\n",
    "hist = pd.DataFrame({'epochs':history.epoch,'loss':history.history['loss'],'accuracy':history.history['accuracy']})\n",
    "hist.to_csv('model_history.csv')"
   ]
  },
  {
   "cell_type": "code",
   "execution_count": 3,
   "id": "6b11c330-52bc-4315-9471-2ed208f6f54e",
   "metadata": {},
   "outputs": [],
   "source": [
    "history = pd.read_csv('C:/Users/Mrinal Kalita/Python Projects/Text Generation/model_history.csv')"
   ]
  },
  {
   "cell_type": "code",
   "execution_count": 2,
   "id": "e7eddd3e-815c-4d18-9eb1-310587c77b60",
   "metadata": {},
   "outputs": [],
   "source": [
    "import matplotlib.pyplot as plt\n",
    "import seaborn as sns"
   ]
  },
  {
   "cell_type": "code",
   "execution_count": 10,
   "id": "079c39c2-acfe-450c-9464-29325343b951",
   "metadata": {},
   "outputs": [
    {
     "data": {
      "text/plain": [
       "Text(0.5, 1.0, 'Accuracy')"
      ]
     },
     "execution_count": 10,
     "metadata": {},
     "output_type": "execute_result"
    },
    {
     "data": {
      "image/png": "[encoded data removed]",
      "text/plain": [
       "<Figure size 2000x800 with 2 Axes>"
      ]
     },
     "metadata": {},
     "output_type": "display_data"
    }
   ],
   "source": [
    "plt.figure(figsize=(20,8))\n",
    "plt.subplot(2,2,1)\n",
    "plt.plot(history['epochs'],history['loss'])\n",
    "plt.title('Loss')\n",
    "plt.subplot(2,2,2)\n",
    "plt.plot(history['epochs'],history['accuracy'])\n",
    "plt.title('Accuracy')"
   ]
  },
  {
   "cell_type": "markdown",
   "id": "9c17e7b6-7426-4607-b4a6-c001eb3e9cec",
   "metadata": {},
   "source": [
    "## Text Generation Prediction"
   ]
  },
  {
   "cell_type": "code",
   "execution_count": 11,
   "id": "7e166cae-ecee-48da-a849-f9ffddf07e16",
   "metadata": {},
   "outputs": [],
   "source": [
    "model = tf.keras.models.load_model('C:/Users/Mrinal Kalita/Python Projects/Text Generation/model.h5')"
   ]
  },
  {
   "cell_type": "code",
   "execution_count": 33,
   "id": "d5ab9d40-f3b4-4954-a2ee-83c462a8205c",
   "metadata": {},
   "outputs": [],
   "source": [
    "def generate_text(text, no_words, max_len):\n",
    "\n",
    "    for n in range(no_words):\n",
    "        token_list = tokenizer.texts_to_sequences([text])\n",
    "        token = pad_sequences(token_list,maxlen=max_len-1)\n",
    "    \n",
    "        predicted = model.predict(token)\n",
    "        classes = np.argmax(predicted)\n",
    "        word = ''\n",
    "        for w, i in tokenizer.word_index.items():\n",
    "            if i ==classes:\n",
    "                word = w\n",
    "                break\n",
    "        text += ' ' + word\n",
    "    return text.title()"
   ]
  },
  {
   "cell_type": "code",
   "execution_count": 40,
   "id": "83c52ad0-1f63-49c7-bde2-d0461645c0db",
   "metadata": {},
   "outputs": [
    {
     "name": "stdout",
     "output_type": "stream",
     "text": [
      "1/1 [==============================] - 0s 60ms/step\n",
      "1/1 [==============================] - 0s 42ms/step\n",
      "1/1 [==============================] - 0s 51ms/step\n",
      "1/1 [==============================] - 0s 28ms/step\n"
     ]
    },
    {
     "data": {
      "text/plain": [
       "'Machine Learning Is  Blowing Up Ocr And'"
      ]
     },
     "execution_count": 40,
     "metadata": {},
     "output_type": "execute_result"
    }
   ],
   "source": [
    "generate_text('Machine Learning is ',4,max_len)"
   ]
  },
  {
   "cell_type": "code",
   "execution_count": null,
   "id": "f73a12cc-1f77-4e2c-8366-fefbbaa0a07d",
   "metadata": {},
   "outputs": [],
   "source": []
  }
 ],
 "metadata": {
  "kernelspec": {
   "display_name": "Python 3 (ipykernel)",
   "language": "python",
   "name": "python3"
  },
  "language_info": {
   "codemirror_mode": {
    "name": "ipython",
    "version": 3
   },
   "file_extension": ".py",
   "mimetype": "text/x-python",
   "name": "python",
   "nbconvert_exporter": "python",
   "pygments_lexer": "ipython3",
   "version": "3.8.18"
  }
 },
 "nbformat": 4,
 "nbformat_minor": 5
}
